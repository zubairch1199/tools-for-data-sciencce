{
 "cells": [
  {
   "cell_type": "markdown",
   "id": "1f6d7157",
   "metadata": {},
   "source": [
    "# Data Science Tools and Ecosystem"
   ]
  },
  {
   "cell_type": "markdown",
   "id": "223cbbf1",
   "metadata": {},
   "source": [
    "In this notebook, Data Science Tools and Ecosystem are summarized."
   ]
  },
  {
   "cell_type": "markdown",
   "id": "97bb596b",
   "metadata": {},
   "source": [
    "Some of the popular languages that Data Scientists use are:\n",
    "    1-Python\n",
    "    2-R\n",
    "    3-Sql\n",
    "    4-Java\n",
    "    5-JavaScript\n",
    "    6-Scala"
   ]
  },
  {
   "cell_type": "markdown",
   "id": "abd57205",
   "metadata": {},
   "source": [
    "Some of the commonly used libraries used by Data Scientists include:\n",
    "    1-Tenserflow (deep learning production and deployment)\n",
    "    2-Pytorch                          (for deep learning regression and classification)\n",
    "    3-keras                            (for deep learning neural networks)\n",
    "    5-Numpy                            (for Array and Matrices)\n",
    "    6-Pandas                           (Data Structures and tools)\n",
    "    7-Matplotlib                       (for Plots and graphs)\n",
    "    8-Seaborn                          (for plot,heap maps, time series and violin plots )\n",
    "    9-Scikit-Learn                     (for ML regression and classification)"
   ]
  },
  {
   "cell_type": "markdown",
   "id": "acc56209",
   "metadata": {},
   "source": [
    "| Data Science Tools |\n",
    "----------------------\n",
    "| numpy              |\n",
    "| pandas             | "
   ]
  },
  {
   "cell_type": "markdown",
   "id": "46987104",
   "metadata": {},
   "source": [
    "###Below are a few examples of evaluating arithmetic expressions in Python"
   ]
  },
  {
   "cell_type": "code",
   "execution_count": 5,
   "id": "ee71423a",
   "metadata": {},
   "outputs": [
    {
     "data": {
      "text/plain": [
       "17"
      ]
     },
     "execution_count": 5,
     "metadata": {},
     "output_type": "execute_result"
    }
   ],
   "source": [
    "(3*4)+5\n",
    "# This a simple arithmetic expression to mutiply then add integers"
   ]
  },
  {
   "cell_type": "code",
   "execution_count": 6,
   "id": "ba6a8b1f",
   "metadata": {},
   "outputs": [
    {
     "data": {
      "text/plain": [
       "3.3333333333333335"
      ]
     },
     "execution_count": 6,
     "metadata": {},
     "output_type": "execute_result"
    }
   ],
   "source": [
    "200/60"
   ]
  },
  {
   "cell_type": "markdown",
   "id": "8033f09c",
   "metadata": {},
   "source": [
    "List popular languages for Data Science:\n",
    "    1-Python\n",
    "    2-R\n",
    "    3-Sql\n",
    "    4-Scala"
   ]
  },
  {
   "cell_type": "markdown",
   "id": "fe1597b2",
   "metadata": {},
   "source": [
    "## Author\n",
    "Shahid Rasool"
   ]
  },
  {
   "cell_type": "code",
   "execution_count": null,
   "id": "094c3c14",
   "metadata": {},
   "outputs": [],
   "source": []
  }
 ],
 "metadata": {
  "kernelspec": {
   "display_name": "Python 3 (ipykernel)",
   "language": "python",
   "name": "python3"
  },
  "language_info": {
   "codemirror_mode": {
    "name": "ipython",
    "version": 3
   },
   "file_extension": ".py",
   "mimetype": "text/x-python",
   "name": "python",
   "nbconvert_exporter": "python",
   "pygments_lexer": "ipython3",
   "version": "3.11.4"
  }
 },
 "nbformat": 4,
 "nbformat_minor": 5
}
